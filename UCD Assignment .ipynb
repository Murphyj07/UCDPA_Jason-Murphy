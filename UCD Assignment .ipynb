{
 "cells": [
  {
   "cell_type": "code",
   "execution_count": 4,
   "id": "30e94b08",
   "metadata": {},
   "outputs": [],
   "source": [
    "# importing of necessesary libraries for this project\n",
    "\n",
    "import pandas as pd                   # reading csv file and turning to dataframe\n",
    "import numpy as np                   # 2D arrays\n",
    "import seaborn as sns                 # for Data visualisation\n",
    "import matplotlib.pyplot as plt       # for data visualisation\n",
    "%matplotlib inline \n",
    "sns.set(color_codes=True)"
   ]
  },
  {
   "cell_type": "code",
   "execution_count": null,
   "id": "c2130f9c",
   "metadata": {},
   "outputs": [],
   "source": [
    "#Import of Primary dataset of project \n",
    "\n"
   ]
  }
 ],
 "metadata": {
  "kernelspec": {
   "display_name": "Python 3",
   "language": "python",
   "name": "python3"
  },
  "language_info": {
   "codemirror_mode": {
    "name": "ipython",
    "version": 3
   },
   "file_extension": ".py",
   "mimetype": "text/x-python",
   "name": "python",
   "nbconvert_exporter": "python",
   "pygments_lexer": "ipython3",
   "version": "3.8.8"
  }
 },
 "nbformat": 4,
 "nbformat_minor": 5
}
